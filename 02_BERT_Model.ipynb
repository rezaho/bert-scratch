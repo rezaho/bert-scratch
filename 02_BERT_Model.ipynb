{
 "cells": [
  {
   "cell_type": "code",
   "execution_count": 1,
   "metadata": {},
   "outputs": [],
   "source": [
    "import torch.nn as nn\n",
    "import torch"
   ]
  },
  {
   "cell_type": "code",
   "execution_count": 2,
   "metadata": {},
   "outputs": [],
   "source": [
    "from torch.utils.data import Dataset, DataLoader\n",
    "import pandas as pd\n",
    "\n",
    "# class TextDataset(Dataset):\n",
    "#     \"\"\" Transform CSV dataset intp Pytorch dataset \"\"\"\n",
    "#     def __init__(self, dataframe=None, csv_file=None, root_dir=None, text_col=None, label_col=None):\n",
    "#         if dataframe is None and csv_file is None:\n",
    "#             raise ValueError(\"For initializing the dataset, you need to either pass a dataframe or a file name.\")\n",
    "#         if dataframe is not None and (text_col is None or label_col is None):\n",
    "#             raise ValueError(\"You need to pass `text_col` and `label_col` when passing a dataframe.\")\n",
    "#         if csv_file:\n",
    "#             self.df = pd.read_csv(csv_file)\n",
    "#         if dataframe is not None:\n",
    "#             self.df = dataframe\n",
    "#         self.root_dir = root_dir\n",
    "#         self.text_col = text_col\n",
    "#         self.label_col = label_col\n",
    "\n",
    "#     def __len__(self):\n",
    "#         return self.df.shape[0]\n",
    "\n",
    "#     def __getitem__(self, idx):\n",
    "#         if torch.is_tensor(idx):\n",
    "#             idx  = idx.tolist()\n",
    "#         return self.df.loc[idx, self.text_col], self.df.loc[idx, self.label_col]\n",
    "        "
   ]
  },
  {
   "cell_type": "code",
   "execution_count": 8,
   "metadata": {},
   "outputs": [],
   "source": [
    "# M476FCVSPS"
   ]
  },
  {
   "cell_type": "code",
   "execution_count": 3,
   "metadata": {},
   "outputs": [],
   "source": [
    "import datasets"
   ]
  },
  {
   "cell_type": "code",
   "execution_count": 4,
   "metadata": {},
   "outputs": [
    {
     "name": "stderr",
     "output_type": "stream",
     "text": [
      "Reusing dataset imdb (/home/re1372/.cache/huggingface/datasets/imdb/plain_text/1.0.0/90099cb476936b753383ba2ae6ab2eae419b2e87f71cd5189cb9c8e5814d12a3)\n"
     ]
    }
   ],
   "source": [
    "imdb_ds = datasets.load_dataset('imdb')"
   ]
  },
  {
   "cell_type": "code",
   "execution_count": 5,
   "metadata": {},
   "outputs": [
    {
     "name": "stdout",
     "output_type": "stream",
     "text": [
      "Train: 25,000\tTest: 25,000\n"
     ]
    },
    {
     "data": {
      "text/html": [
       "<div>\n",
       "<style scoped>\n",
       "    .dataframe tbody tr th:only-of-type {\n",
       "        vertical-align: middle;\n",
       "    }\n",
       "\n",
       "    .dataframe tbody tr th {\n",
       "        vertical-align: top;\n",
       "    }\n",
       "\n",
       "    .dataframe thead th {\n",
       "        text-align: right;\n",
       "    }\n",
       "</style>\n",
       "<table border=\"1\" class=\"dataframe\">\n",
       "  <thead>\n",
       "    <tr style=\"text-align: right;\">\n",
       "      <th></th>\n",
       "      <th>label</th>\n",
       "      <th>text</th>\n",
       "    </tr>\n",
       "  </thead>\n",
       "  <tbody>\n",
       "    <tr>\n",
       "      <th>0</th>\n",
       "      <td>1</td>\n",
       "      <td>Bromwell High is a cartoon comedy. It ran at t...</td>\n",
       "    </tr>\n",
       "    <tr>\n",
       "      <th>1</th>\n",
       "      <td>1</td>\n",
       "      <td>Homelessness (or Houselessness as George Carli...</td>\n",
       "    </tr>\n",
       "  </tbody>\n",
       "</table>\n",
       "</div>"
      ],
      "text/plain": [
       "   label                                               text\n",
       "0      1  Bromwell High is a cartoon comedy. It ran at t...\n",
       "1      1  Homelessness (or Houselessness as George Carli..."
      ]
     },
     "execution_count": 5,
     "metadata": {},
     "output_type": "execute_result"
    }
   ],
   "source": [
    "train_df = imdb_ds['train'].data.to_pandas()\n",
    "test_df = imdb_ds['test'].data.to_pandas()\n",
    "\n",
    "print('Train: {:,}\\tTest: {:,}'.format(train_df.shape[0], test_df.shape[0]))\n",
    "train_df.head(2)"
   ]
  },
  {
   "cell_type": "code",
   "execution_count": 7,
   "metadata": {},
   "outputs": [],
   "source": [
    "# train_ds = TextDataset(train_df, text_col=\"text\", label_col='label')\n",
    "# test_ds = TextDataset(test_df, text_col=\"text\", label_col='label')"
   ]
  },
  {
   "cell_type": "code",
   "execution_count": 8,
   "metadata": {},
   "outputs": [],
   "source": [
    "# train_dl = DataLoader(train_ds, batch_size=64, shuffle=True, num_workers=23)\n",
    "# test_dl = DataLoader(test_ds, batch_size=64, shuffle=False, num_workers=23)"
   ]
  },
  {
   "cell_type": "code",
   "execution_count": 9,
   "metadata": {},
   "outputs": [],
   "source": [
    "from torchtext.data.utils import get_tokenizer\n",
    "from torchtext.vocab import build_vocab_from_iterator"
   ]
  },
  {
   "cell_type": "code",
   "execution_count": 10,
   "metadata": {},
   "outputs": [
    {
     "name": "stderr",
     "output_type": "stream",
     "text": [
      "25000lines [00:01, 13346.51lines/s]\n"
     ]
    }
   ],
   "source": [
    "tokenizer = get_tokenizer('basic_english')\n",
    "vocab = build_vocab_from_iterator(map(tokenizer, iter(train_df.text)))"
   ]
  },
  {
   "cell_type": "code",
   "execution_count": 11,
   "metadata": {},
   "outputs": [],
   "source": [
    "def data_process(raw_text_iter):\n",
    "    data = [torch.tensor([vocab[token] for token in tokenizer(item)]) for item in raw_text_iter]\n",
    "    return torch.cat(tuple(filter(lambda t: t.numel()>0, data)))"
   ]
  },
  {
   "cell_type": "markdown",
   "metadata": {},
   "source": [
    "## Process Datasets"
   ]
  },
  {
   "cell_type": "code",
   "execution_count": 12,
   "metadata": {},
   "outputs": [
    {
     "name": "stdout",
     "output_type": "stream",
     "text": [
      "Train Data: 6,767,187\n",
      "Test Data: 6,615,916\n"
     ]
    }
   ],
   "source": [
    "train_processed = data_process(iter(train_df.text))\n",
    "test_processed = data_process(iter(test_df.text))\n",
    "\n",
    "print('Train Data: {:,}'.format(train_processed.shape[0]))\n",
    "print('Test Data: {:,}'.format(test_processed.shape[0]))"
   ]
  },
  {
   "cell_type": "markdown",
   "metadata": {},
   "source": [
    "# Batchify"
   ]
  },
  {
   "cell_type": "code",
   "execution_count": 13,
   "metadata": {},
   "outputs": [],
   "source": [
    "def batchify(data, batch_size, device='cpu'):\n",
    "    # Devide the dataset into batches with the size of `batch_size`\n",
    "    nbatch = data.size(0) // batch_size\n",
    "    # Trim off any extra elements that wouldn't cleanly fit\n",
    "    data = data.narrow(0, 0, nbatch*batch_size)\n",
    "    # Evenly divide the data across the batches\n",
    "    data = data.view(batch_size, -1).t().contiguous()\n",
    "    return data.to(device)"
   ]
  },
  {
   "cell_type": "code",
   "execution_count": 14,
   "metadata": {},
   "outputs": [
    {
     "name": "stdout",
     "output_type": "stream",
     "text": [
      "Device:  cuda\n"
     ]
    }
   ],
   "source": [
    "batch_size = 96#96\n",
    "eval_batch_size = 48 #96\n",
    "device = torch.device(\"cuda\" if torch.cuda.is_available() else \"cpu\")\n",
    "print(\"Device: \", device)\n",
    "train_processed = batchify(train_processed, batch_size, device=device)\n",
    "test_processed = batchify(test_processed, eval_batch_size, device=device)"
   ]
  },
  {
   "cell_type": "code",
   "execution_count": 15,
   "metadata": {},
   "outputs": [
    {
     "name": "stdout",
     "output_type": "stream",
     "text": [
      "Number of Batches: 96 |\tTraining length of each batch: 70,491\n"
     ]
    }
   ],
   "source": [
    "print('Number of Batches: {:,} |\\tTraining length of each batch: {:,}'.format(train_processed.shape[1], train_processed.shape[0]))"
   ]
  },
  {
   "cell_type": "code",
   "execution_count": 16,
   "metadata": {},
   "outputs": [],
   "source": [
    "def get_batch_train(source, i, bptt):\n",
    "    seq_len = min(bptt, max(len(source)-1-i, 0))\n",
    "    data = source[i:i+seq_len]\n",
    "    target = source[i+1:i+1+seq_len].reshape(-1)\n",
    "    return data, target"
   ]
  },
  {
   "cell_type": "code",
   "execution_count": 18,
   "metadata": {},
   "outputs": [
    {
     "data": {
      "text/plain": [
       "torch.Size([35, 96])"
      ]
     },
     "execution_count": 18,
     "metadata": {},
     "output_type": "execute_result"
    }
   ],
   "source": [
    "get_batch_train(train_processed, 100, 35)[0].shape"
   ]
  },
  {
   "cell_type": "code",
   "execution_count": 19,
   "metadata": {},
   "outputs": [],
   "source": [
    "import math\n",
    "import torch\n",
    "import torch.nn as nn\n",
    "import torch.nn.functional as F \n",
    "\n",
    "class TransformerCustomModel(nn.Module):\n",
    "    def __init__(self, ntoken, ninput, nhead, nhidd, nlayer, dropout=0.5):\n",
    "        super().__init__()\n",
    "        from torch.nn import TransformerEncoder, TransformerEncoderLayer\n",
    "\n",
    "        self.model_type = 'Transformer'\n",
    "        self.pos_encoder = PositionalEncoding(ninput, dropout)\n",
    "        encoder_layers = TransformerEncoderLayer(ninput, nhead, nhidd, dropout)\n",
    "        self.transformer_encoder = TransformerEncoder(encoder_layers, nlayer)\n",
    "        self.encoder = nn.Embedding(ntoken, ninput)\n",
    "        self.ninput = ninput\n",
    "        self.decoder = nn.Linear(ninput, ntoken)\n",
    "\n",
    "        self.init_weights()\n",
    "\n",
    "    def generate_square_subsequent_mask(self, size):\n",
    "        mask = (torch.triu(torch.ones(size, size)) == 1).transpose(0,1)\n",
    "        mask = mask.float().masked_fill(mask == 0, float('-inf')).masked_fill(mask==1, float(0.0))\n",
    "        return mask\n",
    "\n",
    "    def init_weights(self):\n",
    "        initrange = 0.1\n",
    "        self.encoder.weight.data.uniform_(-initrange, initrange)\n",
    "        self.decoder.bias.data.zero_()\n",
    "        self.decoder.weight.data.uniform_(-initrange, initrange)\n",
    "\n",
    "    def forward(self, src, src_mask):\n",
    "        src = self.encoder(src) * math.sqrt(self.ninput)\n",
    "        src = self.pos_encoder(src)\n",
    "        output = self.transformer_encoder(src, src_mask)\n",
    "        output = self.decoder(output)\n",
    "        return output"
   ]
  },
  {
   "cell_type": "code",
   "execution_count": 20,
   "metadata": {},
   "outputs": [],
   "source": [
    "class PositionalEncoding(nn.Module):\n",
    "    def __init__(self, d_model, dropout=0.1, max_len=5000):\n",
    "        super().__init__()\n",
    "        self.dropout = nn.Dropout(p=dropout)\n",
    "\n",
    "        pe = torch.zeros(max_len, d_model)\n",
    "        position = torch.arange(0, max_len, dtype=torch.float).unsqueeze(1)\n",
    "        div_term = torch.exp(torch.arange(0, d_model, 2).float() * (-math.log(10000.0) / d_model))\n",
    "\n",
    "        pe[:, 0::2] = torch.sin(position * div_term)\n",
    "        pe[:, 1::2] = torch.cos(position * div_term)\n",
    "\n",
    "        pe = pe.unsqueeze(0).transpose(0,1)\n",
    "        self.register_buffer('pe', pe)\n",
    "\n",
    "    def forward(self, x):\n",
    "        x = x * self.pe[:x.size(0), :]\n",
    "        return self.dropout(x)"
   ]
  },
  {
   "cell_type": "code",
   "execution_count": 21,
   "metadata": {},
   "outputs": [],
   "source": [
    "ntoken = len(vocab.stoi) # the size of vocabulary\n",
    "emsize = 200 # embedding dimension\n",
    "nhidd = 200 # the dimension of the feedforward network model in nn.TransformerEncoder\n",
    "nlayer = 2 # the number of nn.TransformerEncoderLayer in nn.TransformerEncoder\n",
    "nhead = 2 # the number of heads in the multiheadattention models\n",
    "dropout = 0.2 # the dropout value\n",
    "model = TransformerCustomModel(ntoken, emsize, nhead, nhidd, nlayer, dropout).to(device)"
   ]
  },
  {
   "cell_type": "code",
   "execution_count": 22,
   "metadata": {},
   "outputs": [],
   "source": [
    "criterion = nn.CrossEntropyLoss()\n",
    "lr = 5.0 # learning rate\n",
    "optimizer = torch.optim.SGD(model.parameters(), lr=lr)\n",
    "scheduler = torch.optim.lr_scheduler.StepLR(optimizer, 1.0, gamma=0.95)\n",
    "\n",
    "import time\n",
    "def train(train_data, model, criterion, optimizer, bptt, device, ):\n",
    "    model.train() # Turn on the train mode\n",
    "    total_loss = 0.\n",
    "    start_time = time.time()\n",
    "    src_mask = model.generate_square_subsequent_mask(bptt).to(device)\n",
    "    for batch, i in enumerate(range(0, train_processed.size(0) - 1, bptt)):\n",
    "        data, targets = get_batch_train(train_processed, i, bptt)\n",
    "        optimizer.zero_grad()\n",
    "        if data.size(0) != bptt:\n",
    "            src_mask = model.generate_square_subsequent_mask(data.size(0)).to(device)\n",
    "        output = model(data, src_mask)\n",
    "        loss = criterion(output.view(-1, ntoken), targets)\n",
    "        loss.backward()\n",
    "        torch.nn.utils.clip_grad_norm_(model.parameters(), 0.5)\n",
    "        optimizer.step()\n",
    "\n",
    "        total_loss += loss.item()\n",
    "        log_interval = 200\n",
    "        if batch % log_interval == 0 and batch > 0:\n",
    "            cur_loss = total_loss / log_interval\n",
    "            elapsed = time.time() - start_time\n",
    "            print('| epoch {:3d} | {:5d}/{:5d} batches | '\n",
    "                  'lr {:02.2f} | ms/batch {:5.2f} | '\n",
    "                  'loss {:5.2f} | ppl {:8.2f}'.format(\n",
    "                    epoch, batch, len(train_data) // bptt, scheduler.get_last_lr()[0],\n",
    "                    elapsed * 1000 / log_interval,\n",
    "                    cur_loss, math.exp(cur_loss)))\n",
    "            total_loss = 0\n",
    "            start_time = time.time()\n",
    "\n",
    "def evaluate(eval_model, data_source, bptt, batch_size):\n",
    "    eval_model.eval() # Turn on the evaluation mode\n",
    "    total_loss = 0.\n",
    "    src_mask = eval_model.generate_square_subsequent_mask(bptt).to(device)\n",
    "    with torch.no_grad():\n",
    "        for i in range(0, data_source.size(0) - 1, bptt):\n",
    "            data, targets = get_batch_train(data_source, i, batch_size)\n",
    "            if data.size(0) != bptt:\n",
    "                src_mask = eval_model.generate_square_subsequent_mask(data.size(0)).to(device)\n",
    "            output = eval_model(data, src_mask)\n",
    "            output_flat = output.view(-1, ntoken)\n",
    "            total_loss += len(data) * criterion(output_flat, targets).item()\n",
    "    return total_loss / (len(data_source) - 1)"
   ]
  },
  {
   "cell_type": "code",
   "execution_count": 24,
   "metadata": {},
   "outputs": [
    {
     "name": "stderr",
     "output_type": "stream",
     "text": [
      "/home/re1372/anaconda3/envs/main/lib/python3.8/site-packages/torch/optim/lr_scheduler.py:369: UserWarning: To get the last learning rate computed by the scheduler, please use `get_last_lr()`.\n",
      "  warnings.warn(\"To get the last learning rate computed by the scheduler, \"\n"
     ]
    },
    {
     "name": "stdout",
     "output_type": "stream",
     "text": [
      "| epoch   1 |   200/ 4699 batches | lr 5.00 | ms/batch 25.84 | loss  5.58 | ppl   266.32\n",
      "| epoch   1 |   400/ 4699 batches | lr 5.00 | ms/batch 25.61 | loss  5.50 | ppl   245.53\n",
      "| epoch   1 |   600/ 4699 batches | lr 5.00 | ms/batch 25.58 | loss  5.52 | ppl   248.86\n",
      "| epoch   1 |   800/ 4699 batches | lr 5.00 | ms/batch 25.61 | loss  5.50 | ppl   245.19\n",
      "| epoch   1 |  1000/ 4699 batches | lr 5.00 | ms/batch 25.65 | loss  5.47 | ppl   237.19\n",
      "| epoch   1 |  1200/ 4699 batches | lr 5.00 | ms/batch 25.64 | loss  5.48 | ppl   240.04\n",
      "| epoch   1 |  1400/ 4699 batches | lr 5.00 | ms/batch 25.66 | loss  5.45 | ppl   233.59\n",
      "| epoch   1 |  1600/ 4699 batches | lr 5.00 | ms/batch 25.70 | loss  5.45 | ppl   231.76\n",
      "| epoch   1 |  1800/ 4699 batches | lr 5.00 | ms/batch 25.62 | loss  5.43 | ppl   227.89\n",
      "| epoch   1 |  2000/ 4699 batches | lr 5.00 | ms/batch 25.63 | loss  5.44 | ppl   229.95\n",
      "| epoch   1 |  2200/ 4699 batches | lr 5.00 | ms/batch 25.75 | loss  5.46 | ppl   234.47\n",
      "| epoch   1 |  2400/ 4699 batches | lr 5.00 | ms/batch 26.29 | loss  5.46 | ppl   234.67\n",
      "| epoch   1 |  2600/ 4699 batches | lr 5.00 | ms/batch 25.87 | loss  5.42 | ppl   225.64\n",
      "| epoch   1 |  2800/ 4699 batches | lr 5.00 | ms/batch 25.78 | loss  5.43 | ppl   228.19\n",
      "| epoch   1 |  3000/ 4699 batches | lr 5.00 | ms/batch 25.74 | loss  5.42 | ppl   226.68\n",
      "| epoch   1 |  3200/ 4699 batches | lr 5.00 | ms/batch 25.75 | loss  5.38 | ppl   217.81\n",
      "| epoch   1 |  3400/ 4699 batches | lr 5.00 | ms/batch 25.86 | loss  5.41 | ppl   224.75\n",
      "| epoch   1 |  3600/ 4699 batches | lr 5.00 | ms/batch 25.76 | loss  5.42 | ppl   226.98\n",
      "| epoch   1 |  3800/ 4699 batches | lr 5.00 | ms/batch 26.01 | loss  5.37 | ppl   215.63\n",
      "| epoch   1 |  4000/ 4699 batches | lr 5.00 | ms/batch 25.80 | loss  5.40 | ppl   221.46\n",
      "| epoch   1 |  4200/ 4699 batches | lr 5.00 | ms/batch 25.74 | loss  5.39 | ppl   218.73\n",
      "| epoch   1 |  4400/ 4699 batches | lr 5.00 | ms/batch 25.86 | loss  5.35 | ppl   209.97\n",
      "| epoch   1 |  4600/ 4699 batches | lr 5.00 | ms/batch 25.76 | loss  5.36 | ppl   211.89\n",
      "-----------------------------------------------------------------------------------------\n",
      "| end of epoch   1 | time: 228.72s | valid loss 18.16 | valid ppl 77364409.86\n",
      "-----------------------------------------------------------------------------------------\n",
      "| epoch   2 |   200/ 4699 batches | lr 4.51 | ms/batch 25.96 | loss  5.39 | ppl   220.27\n",
      "| epoch   2 |   400/ 4699 batches | lr 4.51 | ms/batch 25.78 | loss  5.33 | ppl   206.86\n",
      "| epoch   2 |   600/ 4699 batches | lr 4.51 | ms/batch 25.79 | loss  5.36 | ppl   212.21\n",
      "| epoch   2 |   800/ 4699 batches | lr 4.51 | ms/batch 25.65 | loss  5.35 | ppl   209.61\n",
      "| epoch   2 |  1000/ 4699 batches | lr 4.51 | ms/batch 25.78 | loss  5.32 | ppl   204.27\n",
      "| epoch   2 |  1200/ 4699 batches | lr 4.51 | ms/batch 25.91 | loss  5.33 | ppl   206.12\n",
      "| epoch   2 |  1400/ 4699 batches | lr 4.51 | ms/batch 26.06 | loss  5.31 | ppl   202.34\n",
      "| epoch   2 |  1600/ 4699 batches | lr 4.51 | ms/batch 26.20 | loss  5.31 | ppl   201.71\n",
      "| epoch   2 |  1800/ 4699 batches | lr 4.51 | ms/batch 26.16 | loss  5.30 | ppl   200.76\n",
      "| epoch   2 |  2000/ 4699 batches | lr 4.51 | ms/batch 25.86 | loss  5.30 | ppl   200.85\n",
      "| epoch   2 |  2200/ 4699 batches | lr 4.51 | ms/batch 25.84 | loss  5.33 | ppl   205.51\n",
      "| epoch   2 |  2400/ 4699 batches | lr 4.51 | ms/batch 25.80 | loss  5.34 | ppl   207.55\n",
      "| epoch   2 |  2600/ 4699 batches | lr 4.51 | ms/batch 25.81 | loss  5.30 | ppl   199.64\n",
      "| epoch   2 |  2800/ 4699 batches | lr 4.51 | ms/batch 25.79 | loss  5.32 | ppl   203.68\n",
      "| epoch   2 |  3000/ 4699 batches | lr 4.51 | ms/batch 25.94 | loss  5.31 | ppl   201.85\n",
      "| epoch   2 |  3200/ 4699 batches | lr 4.51 | ms/batch 25.90 | loss  5.27 | ppl   194.76\n",
      "| epoch   2 |  3400/ 4699 batches | lr 4.51 | ms/batch 25.85 | loss  5.30 | ppl   200.63\n",
      "| epoch   2 |  3600/ 4699 batches | lr 4.51 | ms/batch 25.81 | loss  5.31 | ppl   203.06\n",
      "| epoch   2 |  3800/ 4699 batches | lr 4.51 | ms/batch 25.95 | loss  5.26 | ppl   193.35\n",
      "| epoch   2 |  4000/ 4699 batches | lr 4.51 | ms/batch 25.79 | loss  5.30 | ppl   200.11\n",
      "| epoch   2 |  4200/ 4699 batches | lr 4.51 | ms/batch 25.78 | loss  5.29 | ppl   198.91\n",
      "| epoch   2 |  4400/ 4699 batches | lr 4.51 | ms/batch 25.80 | loss  5.25 | ppl   190.47\n",
      "| epoch   2 |  4600/ 4699 batches | lr 4.51 | ms/batch 25.79 | loss  5.26 | ppl   192.51\n",
      "-----------------------------------------------------------------------------------------\n",
      "| end of epoch   2 | time: 229.32s | valid loss 18.00 | valid ppl 65970874.58\n",
      "-----------------------------------------------------------------------------------------\n",
      "| epoch   3 |   200/ 4699 batches | lr 4.29 | ms/batch 25.98 | loss  5.31 | ppl   202.00\n",
      "| epoch   3 |   400/ 4699 batches | lr 4.29 | ms/batch 25.77 | loss  5.25 | ppl   190.48\n",
      "| epoch   3 |   600/ 4699 batches | lr 4.29 | ms/batch 26.14 | loss  5.27 | ppl   195.01\n",
      "| epoch   3 |   800/ 4699 batches | lr 4.29 | ms/batch 26.18 | loss  5.26 | ppl   193.44\n",
      "| epoch   3 |  1000/ 4699 batches | lr 4.29 | ms/batch 26.65 | loss  5.24 | ppl   188.58\n",
      "| epoch   3 |  1200/ 4699 batches | lr 4.29 | ms/batch 26.46 | loss  5.25 | ppl   190.74\n",
      "| epoch   3 |  1400/ 4699 batches | lr 4.29 | ms/batch 25.85 | loss  5.23 | ppl   186.12\n",
      "| epoch   3 |  1600/ 4699 batches | lr 4.29 | ms/batch 25.85 | loss  5.23 | ppl   187.30\n",
      "| epoch   3 |  1800/ 4699 batches | lr 4.29 | ms/batch 25.86 | loss  5.23 | ppl   186.38\n",
      "| epoch   3 |  2000/ 4699 batches | lr 4.29 | ms/batch 25.83 | loss  5.23 | ppl   186.65\n",
      "| epoch   3 |  2200/ 4699 batches | lr 4.29 | ms/batch 25.87 | loss  5.25 | ppl   190.66\n",
      "| epoch   3 |  2400/ 4699 batches | lr 4.29 | ms/batch 25.85 | loss  5.26 | ppl   192.45\n",
      "| epoch   3 |  2600/ 4699 batches | lr 4.29 | ms/batch 25.86 | loss  5.22 | ppl   185.65\n",
      "| epoch   3 |  2800/ 4699 batches | lr 4.29 | ms/batch 25.83 | loss  5.24 | ppl   188.88\n",
      "| epoch   3 |  3000/ 4699 batches | lr 4.29 | ms/batch 25.86 | loss  5.23 | ppl   187.35\n",
      "| epoch   3 |  3200/ 4699 batches | lr 4.29 | ms/batch 25.85 | loss  5.20 | ppl   181.02\n",
      "| epoch   3 |  3400/ 4699 batches | lr 4.29 | ms/batch 25.84 | loss  5.23 | ppl   186.66\n",
      "| epoch   3 |  3600/ 4699 batches | lr 4.29 | ms/batch 25.86 | loss  5.24 | ppl   188.71\n",
      "| epoch   3 |  3800/ 4699 batches | lr 4.29 | ms/batch 25.85 | loss  5.19 | ppl   179.99\n",
      "| epoch   3 |  4000/ 4699 batches | lr 4.29 | ms/batch 25.94 | loss  5.23 | ppl   186.19\n",
      "| epoch   3 |  4200/ 4699 batches | lr 4.29 | ms/batch 26.03 | loss  5.22 | ppl   185.13\n",
      "| epoch   3 |  4400/ 4699 batches | lr 4.29 | ms/batch 25.85 | loss  5.18 | ppl   178.08\n",
      "| epoch   3 |  4600/ 4699 batches | lr 4.29 | ms/batch 25.86 | loss  5.19 | ppl   179.78\n",
      "-----------------------------------------------------------------------------------------\n",
      "| end of epoch   3 | time: 231.27s | valid loss 17.93 | valid ppl 61240860.10\n",
      "-----------------------------------------------------------------------------------------\n",
      "| epoch   4 |   200/ 4699 batches | lr 4.07 | ms/batch 25.99 | loss  5.24 | ppl   188.80\n",
      "| epoch   4 |   400/ 4699 batches | lr 4.07 | ms/batch 25.85 | loss  5.19 | ppl   178.90\n",
      "| epoch   4 |   600/ 4699 batches | lr 4.07 | ms/batch 25.95 | loss  5.21 | ppl   183.25\n",
      "| epoch   4 |   800/ 4699 batches | lr 4.07 | ms/batch 25.86 | loss  5.21 | ppl   182.21\n",
      "| epoch   4 |  1000/ 4699 batches | lr 4.07 | ms/batch 25.94 | loss  5.18 | ppl   177.60\n",
      "| epoch   4 |  1200/ 4699 batches | lr 4.07 | ms/batch 26.24 | loss  5.19 | ppl   179.56\n",
      "| epoch   4 |  1400/ 4699 batches | lr 4.07 | ms/batch 25.82 | loss  5.17 | ppl   175.10\n",
      "| epoch   4 |  1600/ 4699 batches | lr 4.07 | ms/batch 25.82 | loss  5.17 | ppl   176.31\n",
      "| epoch   4 |  1800/ 4699 batches | lr 4.07 | ms/batch 25.82 | loss  5.17 | ppl   175.94\n",
      "| epoch   4 |  2000/ 4699 batches | lr 4.07 | ms/batch 25.85 | loss  5.17 | ppl   175.72\n",
      "| epoch   4 |  2200/ 4699 batches | lr 4.07 | ms/batch 25.87 | loss  5.19 | ppl   179.91\n",
      "| epoch   4 |  2400/ 4699 batches | lr 4.07 | ms/batch 25.97 | loss  5.20 | ppl   181.29\n",
      "| epoch   4 |  2600/ 4699 batches | lr 4.07 | ms/batch 26.63 | loss  5.17 | ppl   175.38\n",
      "| epoch   4 |  2800/ 4699 batches | lr 4.07 | ms/batch 25.89 | loss  5.18 | ppl   178.25\n",
      "| epoch   4 |  3000/ 4699 batches | lr 4.07 | ms/batch 25.91 | loss  5.18 | ppl   176.88\n",
      "| epoch   4 |  3200/ 4699 batches | lr 4.07 | ms/batch 25.95 | loss  5.14 | ppl   171.47\n",
      "| epoch   4 |  3400/ 4699 batches | lr 4.07 | ms/batch 25.98 | loss  5.17 | ppl   175.98\n",
      "| epoch   4 |  3600/ 4699 batches | lr 4.07 | ms/batch 25.98 | loss  5.18 | ppl   178.32\n",
      "| epoch   4 |  3800/ 4699 batches | lr 4.07 | ms/batch 26.90 | loss  5.14 | ppl   170.40\n",
      "| epoch   4 |  4000/ 4699 batches | lr 4.07 | ms/batch 25.93 | loss  5.17 | ppl   176.04\n",
      "| epoch   4 |  4200/ 4699 batches | lr 4.07 | ms/batch 26.01 | loss  5.17 | ppl   175.92\n",
      "| epoch   4 |  4400/ 4699 batches | lr 4.07 | ms/batch 26.09 | loss  5.13 | ppl   168.31\n",
      "| epoch   4 |  4600/ 4699 batches | lr 4.07 | ms/batch 26.10 | loss  5.14 | ppl   170.13\n",
      "-----------------------------------------------------------------------------------------\n",
      "| end of epoch   4 | time: 231.80s | valid loss 17.86 | valid ppl 57161405.61\n",
      "-----------------------------------------------------------------------------------------\n",
      "| epoch   5 |   200/ 4699 batches | lr 3.87 | ms/batch 26.10 | loss  5.19 | ppl   178.96\n",
      "| epoch   5 |   400/ 4699 batches | lr 3.87 | ms/batch 26.05 | loss  5.14 | ppl   170.58\n",
      "| epoch   5 |   600/ 4699 batches | lr 3.87 | ms/batch 25.97 | loss  5.16 | ppl   173.50\n",
      "| epoch   5 |   800/ 4699 batches | lr 3.87 | ms/batch 25.98 | loss  5.16 | ppl   173.50\n",
      "| epoch   5 |  1000/ 4699 batches | lr 3.87 | ms/batch 26.42 | loss  5.13 | ppl   168.76\n",
      "| epoch   5 |  1200/ 4699 batches | lr 3.87 | ms/batch 26.95 | loss  5.14 | ppl   170.55\n",
      "| epoch   5 |  1400/ 4699 batches | lr 3.87 | ms/batch 25.94 | loss  5.12 | ppl   166.57\n",
      "| epoch   5 |  1600/ 4699 batches | lr 3.87 | ms/batch 25.95 | loss  5.12 | ppl   167.97\n",
      "| epoch   5 |  1800/ 4699 batches | lr 3.87 | ms/batch 25.93 | loss  5.12 | ppl   167.03\n",
      "| epoch   5 |  2000/ 4699 batches | lr 3.87 | ms/batch 25.95 | loss  5.12 | ppl   167.41\n",
      "| epoch   5 |  2200/ 4699 batches | lr 3.87 | ms/batch 25.96 | loss  5.14 | ppl   170.60\n",
      "| epoch   5 |  2400/ 4699 batches | lr 3.87 | ms/batch 25.97 | loss  5.15 | ppl   172.76\n",
      "| epoch   5 |  2600/ 4699 batches | lr 3.87 | ms/batch 26.07 | loss  5.12 | ppl   166.65\n",
      "| epoch   5 |  2800/ 4699 batches | lr 3.87 | ms/batch 26.14 | loss  5.13 | ppl   169.81\n",
      "| epoch   5 |  3000/ 4699 batches | lr 3.87 | ms/batch 26.00 | loss  5.13 | ppl   168.26\n",
      "| epoch   5 |  3200/ 4699 batches | lr 3.87 | ms/batch 25.97 | loss  5.10 | ppl   163.50\n",
      "| epoch   5 |  3400/ 4699 batches | lr 3.87 | ms/batch 27.15 | loss  5.12 | ppl   167.80\n",
      "| epoch   5 |  3600/ 4699 batches | lr 3.87 | ms/batch 26.61 | loss  5.14 | ppl   170.26\n",
      "| epoch   5 |  3800/ 4699 batches | lr 3.87 | ms/batch 26.87 | loss  5.09 | ppl   162.25\n",
      "| epoch   5 |  4000/ 4699 batches | lr 3.87 | ms/batch 26.09 | loss  5.12 | ppl   167.36\n",
      "| epoch   5 |  4200/ 4699 batches | lr 3.87 | ms/batch 26.13 | loss  5.12 | ppl   167.44\n",
      "| epoch   5 |  4400/ 4699 batches | lr 3.87 | ms/batch 25.99 | loss  5.08 | ppl   160.26\n",
      "| epoch   5 |  4600/ 4699 batches | lr 3.87 | ms/batch 25.95 | loss  5.09 | ppl   162.64\n",
      "-----------------------------------------------------------------------------------------\n",
      "| end of epoch   5 | time: 230.89s | valid loss 17.88 | valid ppl 58444117.31\n",
      "-----------------------------------------------------------------------------------------\n",
      "| epoch   6 |   200/ 4699 batches | lr 3.68 | ms/batch 26.08 | loss  5.14 | ppl   171.54\n",
      "| epoch   6 |   400/ 4699 batches | lr 3.68 | ms/batch 25.98 | loss  5.10 | ppl   163.21\n",
      "| epoch   6 |   600/ 4699 batches | lr 3.68 | ms/batch 26.06 | loss  5.11 | ppl   166.47\n",
      "| epoch   6 |   800/ 4699 batches | lr 3.68 | ms/batch 25.99 | loss  5.12 | ppl   166.64\n",
      "| epoch   6 |  1000/ 4699 batches | lr 3.68 | ms/batch 26.14 | loss  5.09 | ppl   162.09\n",
      "| epoch   6 |  1200/ 4699 batches | lr 3.68 | ms/batch 26.01 | loss  5.10 | ppl   163.92\n",
      "| epoch   6 |  1400/ 4699 batches | lr 3.68 | ms/batch 25.97 | loss  5.07 | ppl   159.81\n",
      "| epoch   6 |  1600/ 4699 batches | lr 3.68 | ms/batch 25.98 | loss  5.08 | ppl   161.02\n",
      "| epoch   6 |  1800/ 4699 batches | lr 3.68 | ms/batch 25.99 | loss  5.08 | ppl   159.99\n",
      "| epoch   6 |  2000/ 4699 batches | lr 3.68 | ms/batch 25.98 | loss  5.08 | ppl   160.69\n",
      "| epoch   6 |  2200/ 4699 batches | lr 3.68 | ms/batch 25.97 | loss  5.10 | ppl   163.68\n",
      "| epoch   6 |  2400/ 4699 batches | lr 3.68 | ms/batch 25.94 | loss  5.11 | ppl   165.24\n",
      "| epoch   6 |  2600/ 4699 batches | lr 3.68 | ms/batch 25.95 | loss  5.07 | ppl   159.87\n",
      "| epoch   6 |  2800/ 4699 batches | lr 3.68 | ms/batch 26.14 | loss  5.09 | ppl   162.75\n",
      "| epoch   6 |  3000/ 4699 batches | lr 3.68 | ms/batch 26.68 | loss  5.09 | ppl   161.91\n",
      "| epoch   6 |  3200/ 4699 batches | lr 3.68 | ms/batch 26.16 | loss  5.05 | ppl   156.38\n",
      "| epoch   6 |  3400/ 4699 batches | lr 3.68 | ms/batch 26.14 | loss  5.08 | ppl   161.26\n",
      "| epoch   6 |  3600/ 4699 batches | lr 3.68 | ms/batch 25.98 | loss  5.09 | ppl   163.04\n",
      "| epoch   6 |  3800/ 4699 batches | lr 3.68 | ms/batch 26.77 | loss  5.05 | ppl   155.82\n",
      "| epoch   6 |  4000/ 4699 batches | lr 3.68 | ms/batch 26.51 | loss  5.08 | ppl   160.55\n",
      "| epoch   6 |  4200/ 4699 batches | lr 3.68 | ms/batch 25.97 | loss  5.08 | ppl   161.04\n",
      "| epoch   6 |  4400/ 4699 batches | lr 3.68 | ms/batch 26.00 | loss  5.04 | ppl   154.36\n",
      "| epoch   6 |  4600/ 4699 batches | lr 3.68 | ms/batch 26.03 | loss  5.05 | ppl   156.31\n",
      "-----------------------------------------------------------------------------------------\n",
      "| end of epoch   6 | time: 230.52s | valid loss 17.84 | valid ppl 56121536.40\n",
      "-----------------------------------------------------------------------------------------\n",
      "| epoch   7 |   200/ 4699 batches | lr 3.49 | ms/batch 26.30 | loss  5.10 | ppl   164.70\n",
      "| epoch   7 |   400/ 4699 batches | lr 3.49 | ms/batch 26.06 | loss  5.06 | ppl   157.47\n",
      "| epoch   7 |   600/ 4699 batches | lr 3.49 | ms/batch 26.13 | loss  5.08 | ppl   160.07\n",
      "| epoch   7 |   800/ 4699 batches | lr 3.49 | ms/batch 26.00 | loss  5.07 | ppl   159.93\n",
      "| epoch   7 |  1000/ 4699 batches | lr 3.49 | ms/batch 26.11 | loss  5.05 | ppl   156.28\n",
      "| epoch   7 |  1200/ 4699 batches | lr 3.49 | ms/batch 25.94 | loss  5.06 | ppl   157.32\n",
      "| epoch   7 |  1400/ 4699 batches | lr 3.49 | ms/batch 25.92 | loss  5.04 | ppl   154.01\n",
      "| epoch   7 |  1600/ 4699 batches | lr 3.49 | ms/batch 25.97 | loss  5.05 | ppl   155.25\n",
      "| epoch   7 |  1800/ 4699 batches | lr 3.49 | ms/batch 25.93 | loss  5.04 | ppl   154.74\n",
      "| epoch   7 |  2000/ 4699 batches | lr 3.49 | ms/batch 27.54 | loss  5.04 | ppl   154.67\n",
      "| epoch   7 |  2200/ 4699 batches | lr 3.49 | ms/batch 25.88 | loss  5.06 | ppl   158.11\n",
      "| epoch   7 |  2400/ 4699 batches | lr 3.49 | ms/batch 25.90 | loss  5.07 | ppl   159.92\n",
      "| epoch   7 |  2600/ 4699 batches | lr 3.49 | ms/batch 25.86 | loss  5.04 | ppl   153.85\n",
      "| epoch   7 |  2800/ 4699 batches | lr 3.49 | ms/batch 25.89 | loss  5.06 | ppl   156.93\n",
      "| epoch   7 |  3000/ 4699 batches | lr 3.49 | ms/batch 25.98 | loss  5.05 | ppl   155.81\n",
      "| epoch   7 |  3200/ 4699 batches | lr 3.49 | ms/batch 25.97 | loss  5.02 | ppl   151.38\n",
      "| epoch   7 |  3400/ 4699 batches | lr 3.49 | ms/batch 25.90 | loss  5.04 | ppl   155.23\n",
      "| epoch   7 |  3600/ 4699 batches | lr 3.49 | ms/batch 25.94 | loss  5.06 | ppl   157.04\n",
      "| epoch   7 |  3800/ 4699 batches | lr 3.49 | ms/batch 25.92 | loss  5.01 | ppl   150.32\n",
      "| epoch   7 |  4000/ 4699 batches | lr 3.49 | ms/batch 25.91 | loss  5.05 | ppl   155.29\n",
      "| epoch   7 |  4200/ 4699 batches | lr 3.49 | ms/batch 25.94 | loss  5.04 | ppl   155.17\n",
      "| epoch   7 |  4400/ 4699 batches | lr 3.49 | ms/batch 26.11 | loss  5.00 | ppl   148.80\n",
      "| epoch   7 |  4600/ 4699 batches | lr 3.49 | ms/batch 26.26 | loss  5.02 | ppl   150.75\n",
      "-----------------------------------------------------------------------------------------\n",
      "| end of epoch   7 | time: 230.10s | valid loss 17.89 | valid ppl 58867644.98\n",
      "-----------------------------------------------------------------------------------------\n",
      "| epoch   8 |   200/ 4699 batches | lr 3.32 | ms/batch 26.15 | loss  5.07 | ppl   159.01\n",
      "| epoch   8 |   400/ 4699 batches | lr 3.32 | ms/batch 25.94 | loss  5.03 | ppl   152.66\n",
      "| epoch   8 |   600/ 4699 batches | lr 3.32 | ms/batch 25.96 | loss  5.04 | ppl   154.45\n",
      "| epoch   8 |   800/ 4699 batches | lr 3.32 | ms/batch 25.95 | loss  5.04 | ppl   155.09\n",
      "| epoch   8 |  1000/ 4699 batches | lr 3.32 | ms/batch 25.97 | loss  5.01 | ppl   150.64\n",
      "| epoch   8 |  1200/ 4699 batches | lr 3.32 | ms/batch 25.98 | loss  5.03 | ppl   152.46\n",
      "| epoch   8 |  1400/ 4699 batches | lr 3.32 | ms/batch 26.08 | loss  5.00 | ppl   149.15\n",
      "| epoch   8 |  1600/ 4699 batches | lr 3.32 | ms/batch 25.98 | loss  5.01 | ppl   150.44\n",
      "| epoch   8 |  1800/ 4699 batches | lr 3.32 | ms/batch 25.97 | loss  5.01 | ppl   149.34\n",
      "| epoch   8 |  2000/ 4699 batches | lr 3.32 | ms/batch 25.96 | loss  5.01 | ppl   149.62\n",
      "| epoch   8 |  2200/ 4699 batches | lr 3.32 | ms/batch 25.99 | loss  5.03 | ppl   152.24\n",
      "| epoch   8 |  2400/ 4699 batches | lr 3.32 | ms/batch 25.99 | loss  5.04 | ppl   153.93\n",
      "| epoch   8 |  2600/ 4699 batches | lr 3.32 | ms/batch 26.00 | loss  5.00 | ppl   148.60\n",
      "| epoch   8 |  2800/ 4699 batches | lr 3.32 | ms/batch 25.95 | loss  5.02 | ppl   151.58\n",
      "| epoch   8 |  3000/ 4699 batches | lr 3.32 | ms/batch 25.96 | loss  5.01 | ppl   150.35\n",
      "| epoch   8 |  3200/ 4699 batches | lr 3.32 | ms/batch 25.95 | loss  4.99 | ppl   146.63\n",
      "| epoch   8 |  3400/ 4699 batches | lr 3.32 | ms/batch 25.98 | loss  5.01 | ppl   149.92\n",
      "| epoch   8 |  3600/ 4699 batches | lr 3.32 | ms/batch 25.96 | loss  5.02 | ppl   152.08\n",
      "| epoch   8 |  3800/ 4699 batches | lr 3.32 | ms/batch 25.94 | loss  4.98 | ppl   145.97\n",
      "| epoch   8 |  4000/ 4699 batches | lr 3.32 | ms/batch 25.96 | loss  5.01 | ppl   150.14\n",
      "| epoch   8 |  4200/ 4699 batches | lr 3.32 | ms/batch 25.93 | loss  5.01 | ppl   150.37\n",
      "| epoch   8 |  4400/ 4699 batches | lr 3.32 | ms/batch 25.94 | loss  4.97 | ppl   144.30\n",
      "| epoch   8 |  4600/ 4699 batches | lr 3.32 | ms/batch 26.01 | loss  4.98 | ppl   146.03\n",
      "-----------------------------------------------------------------------------------------\n",
      "| end of epoch   8 | time: 229.78s | valid loss 17.96 | valid ppl 63324156.21\n",
      "-----------------------------------------------------------------------------------------\n",
      "| epoch   9 |   200/ 4699 batches | lr 3.15 | ms/batch 26.15 | loss  5.04 | ppl   154.33\n",
      "| epoch   9 |   400/ 4699 batches | lr 3.15 | ms/batch 25.99 | loss  5.00 | ppl   148.29\n",
      "| epoch   9 |   600/ 4699 batches | lr 3.15 | ms/batch 25.98 | loss  5.01 | ppl   150.04\n",
      "| epoch   9 |   800/ 4699 batches | lr 3.15 | ms/batch 25.97 | loss  5.01 | ppl   150.57\n",
      "| epoch   9 |  1000/ 4699 batches | lr 3.15 | ms/batch 25.95 | loss  4.99 | ppl   146.96\n",
      "| epoch   9 |  1200/ 4699 batches | lr 3.15 | ms/batch 25.96 | loss  5.00 | ppl   148.12\n",
      "| epoch   9 |  1400/ 4699 batches | lr 3.15 | ms/batch 25.99 | loss  4.98 | ppl   144.87\n",
      "| epoch   9 |  1600/ 4699 batches | lr 3.15 | ms/batch 26.00 | loss  4.98 | ppl   145.64\n",
      "| epoch   9 |  1800/ 4699 batches | lr 3.15 | ms/batch 26.01 | loss  4.98 | ppl   144.84\n",
      "| epoch   9 |  2000/ 4699 batches | lr 3.15 | ms/batch 26.10 | loss  4.98 | ppl   144.79\n",
      "| epoch   9 |  2200/ 4699 batches | lr 3.15 | ms/batch 26.01 | loss  5.00 | ppl   148.16\n",
      "| epoch   9 |  2400/ 4699 batches | lr 3.15 | ms/batch 25.96 | loss  5.01 | ppl   149.77\n",
      "| epoch   9 |  2600/ 4699 batches | lr 3.15 | ms/batch 26.02 | loss  4.97 | ppl   144.60\n",
      "| epoch   9 |  2800/ 4699 batches | lr 3.15 | ms/batch 26.01 | loss  4.99 | ppl   147.29\n",
      "| epoch   9 |  3000/ 4699 batches | lr 3.15 | ms/batch 26.01 | loss  4.98 | ppl   145.95\n",
      "| epoch   9 |  3200/ 4699 batches | lr 3.15 | ms/batch 25.98 | loss  4.96 | ppl   142.63\n",
      "| epoch   9 |  3400/ 4699 batches | lr 3.15 | ms/batch 25.98 | loss  4.98 | ppl   145.96\n",
      "| epoch   9 |  3600/ 4699 batches | lr 3.15 | ms/batch 26.01 | loss  4.99 | ppl   147.31\n",
      "| epoch   9 |  3800/ 4699 batches | lr 3.15 | ms/batch 25.97 | loss  4.95 | ppl   141.53\n",
      "| epoch   9 |  4000/ 4699 batches | lr 3.15 | ms/batch 26.00 | loss  4.98 | ppl   145.93\n",
      "| epoch   9 |  4200/ 4699 batches | lr 3.15 | ms/batch 25.95 | loss  4.99 | ppl   146.29\n",
      "| epoch   9 |  4400/ 4699 batches | lr 3.15 | ms/batch 25.96 | loss  4.94 | ppl   140.16\n",
      "| epoch   9 |  4600/ 4699 batches | lr 3.15 | ms/batch 25.96 | loss  4.95 | ppl   141.77\n",
      "-----------------------------------------------------------------------------------------\n",
      "| end of epoch   9 | time: 229.78s | valid loss 17.89 | valid ppl 58597674.35\n",
      "-----------------------------------------------------------------------------------------\n",
      "| epoch  10 |   200/ 4699 batches | lr 2.99 | ms/batch 25.28 | loss  5.01 | ppl   149.76\n",
      "| epoch  10 |   400/ 4699 batches | lr 2.99 | ms/batch 25.87 | loss  4.97 | ppl   143.90\n",
      "| epoch  10 |   600/ 4699 batches | lr 2.99 | ms/batch 26.36 | loss  4.98 | ppl   145.78\n",
      "| epoch  10 |   800/ 4699 batches | lr 2.99 | ms/batch 26.17 | loss  4.99 | ppl   146.78\n",
      "| epoch  10 |  1000/ 4699 batches | lr 2.99 | ms/batch 26.10 | loss  4.96 | ppl   142.87\n",
      "| epoch  10 |  1200/ 4699 batches | lr 2.99 | ms/batch 27.10 | loss  4.97 | ppl   143.90\n",
      "| epoch  10 |  1400/ 4699 batches | lr 2.99 | ms/batch 26.69 | loss  4.95 | ppl   140.78\n",
      "| epoch  10 |  1600/ 4699 batches | lr 2.99 | ms/batch 26.61 | loss  4.95 | ppl   141.64\n",
      "| epoch  10 |  1800/ 4699 batches | lr 2.99 | ms/batch 26.33 | loss  4.95 | ppl   141.10\n",
      "| epoch  10 |  2000/ 4699 batches | lr 2.99 | ms/batch 26.51 | loss  4.95 | ppl   141.00\n",
      "| epoch  10 |  2200/ 4699 batches | lr 2.99 | ms/batch 26.07 | loss  4.97 | ppl   143.92\n",
      "| epoch  10 |  2400/ 4699 batches | lr 2.99 | ms/batch 26.11 | loss  4.98 | ppl   145.67\n",
      "| epoch  10 |  2600/ 4699 batches | lr 2.99 | ms/batch 26.20 | loss  4.95 | ppl   141.43\n",
      "| epoch  10 |  2800/ 4699 batches | lr 2.99 | ms/batch 26.06 | loss  4.96 | ppl   142.98\n",
      "| epoch  10 |  3000/ 4699 batches | lr 2.99 | ms/batch 26.83 | loss  4.96 | ppl   142.21\n",
      "| epoch  10 |  3200/ 4699 batches | lr 2.99 | ms/batch 26.13 | loss  4.93 | ppl   138.54\n",
      "| epoch  10 |  3400/ 4699 batches | lr 2.99 | ms/batch 26.02 | loss  4.96 | ppl   142.09\n",
      "| epoch  10 |  3600/ 4699 batches | lr 2.99 | ms/batch 26.18 | loss  4.96 | ppl   143.27\n",
      "| epoch  10 |  3800/ 4699 batches | lr 2.99 | ms/batch 26.50 | loss  4.92 | ppl   137.53\n",
      "| epoch  10 |  4000/ 4699 batches | lr 2.99 | ms/batch 26.07 | loss  4.95 | ppl   141.64\n",
      "| epoch  10 |  4200/ 4699 batches | lr 2.99 | ms/batch 25.97 | loss  4.96 | ppl   142.27\n",
      "| epoch  10 |  4400/ 4699 batches | lr 2.99 | ms/batch 25.97 | loss  4.91 | ppl   136.02\n",
      "| epoch  10 |  4600/ 4699 batches | lr 2.99 | ms/batch 26.00 | loss  4.93 | ppl   138.36\n",
      "-----------------------------------------------------------------------------------------\n",
      "| end of epoch  10 | time: 231.98s | valid loss 17.95 | valid ppl 62216357.38\n",
      "-----------------------------------------------------------------------------------------\n",
      "| epoch  11 |   200/ 4699 batches | lr 2.84 | ms/batch 26.24 | loss  4.98 | ppl   146.16\n",
      "| epoch  11 |   400/ 4699 batches | lr 2.84 | ms/batch 25.97 | loss  4.94 | ppl   140.33\n",
      "| epoch  11 |   600/ 4699 batches | lr 2.84 | ms/batch 26.11 | loss  4.95 | ppl   141.15\n",
      "| epoch  11 |   800/ 4699 batches | lr 2.84 | ms/batch 26.07 | loss  4.96 | ppl   142.96\n",
      "| epoch  11 |  1000/ 4699 batches | lr 2.84 | ms/batch 25.99 | loss  4.94 | ppl   139.21\n",
      "| epoch  11 |  1200/ 4699 batches | lr 2.84 | ms/batch 25.96 | loss  4.94 | ppl   140.18\n",
      "| epoch  11 |  1400/ 4699 batches | lr 2.84 | ms/batch 26.71 | loss  4.92 | ppl   137.33\n",
      "| epoch  11 |  1600/ 4699 batches | lr 2.84 | ms/batch 26.71 | loss  4.93 | ppl   137.94\n",
      "| epoch  11 |  1800/ 4699 batches | lr 2.84 | ms/batch 25.97 | loss  4.92 | ppl   137.21\n",
      "| epoch  11 |  2000/ 4699 batches | lr 2.84 | ms/batch 26.00 | loss  4.92 | ppl   137.12\n",
      "| epoch  11 |  2200/ 4699 batches | lr 2.84 | ms/batch 26.04 | loss  4.94 | ppl   140.12\n",
      "| epoch  11 |  2400/ 4699 batches | lr 2.84 | ms/batch 26.06 | loss  4.95 | ppl   141.65\n",
      "| epoch  11 |  2600/ 4699 batches | lr 2.84 | ms/batch 26.12 | loss  4.92 | ppl   137.04\n",
      "| epoch  11 |  2800/ 4699 batches | lr 2.84 | ms/batch 26.09 | loss  4.94 | ppl   139.63\n",
      "| epoch  11 |  3000/ 4699 batches | lr 2.84 | ms/batch 26.25 | loss  4.93 | ppl   138.08\n",
      "| epoch  11 |  3200/ 4699 batches | lr 2.84 | ms/batch 26.30 | loss  4.91 | ppl   135.07\n",
      "| epoch  11 |  3400/ 4699 batches | lr 2.84 | ms/batch 26.73 | loss  4.93 | ppl   138.49\n",
      "| epoch  11 |  3600/ 4699 batches | lr 2.84 | ms/batch 26.07 | loss  4.94 | ppl   139.67\n",
      "| epoch  11 |  3800/ 4699 batches | lr 2.84 | ms/batch 26.74 | loss  4.90 | ppl   134.07\n",
      "| epoch  11 |  4000/ 4699 batches | lr 2.84 | ms/batch 27.16 | loss  4.93 | ppl   137.80\n",
      "| epoch  11 |  4200/ 4699 batches | lr 2.84 | ms/batch 26.39 | loss  4.93 | ppl   138.39\n",
      "| epoch  11 |  4400/ 4699 batches | lr 2.84 | ms/batch 26.93 | loss  4.89 | ppl   133.18\n",
      "| epoch  11 |  4600/ 4699 batches | lr 2.84 | ms/batch 26.65 | loss  4.90 | ppl   134.50\n",
      "-----------------------------------------------------------------------------------------\n",
      "| end of epoch  11 | time: 231.95s | valid loss 17.90 | valid ppl 59287552.40\n",
      "-----------------------------------------------------------------------------------------\n",
      "| epoch  12 |   200/ 4699 batches | lr 2.70 | ms/batch 26.23 | loss  4.96 | ppl   142.36\n",
      "| epoch  12 |   400/ 4699 batches | lr 2.70 | ms/batch 26.10 | loss  4.92 | ppl   137.22\n",
      "| epoch  12 |   600/ 4699 batches | lr 2.70 | ms/batch 26.22 | loss  4.93 | ppl   138.35\n",
      "| epoch  12 |   800/ 4699 batches | lr 2.70 | ms/batch 26.15 | loss  4.94 | ppl   139.53\n",
      "| epoch  12 |  1000/ 4699 batches | lr 2.70 | ms/batch 26.09 | loss  4.91 | ppl   135.59\n",
      "| epoch  12 |  1200/ 4699 batches | lr 2.70 | ms/batch 26.10 | loss  4.92 | ppl   136.63\n",
      "| epoch  12 |  1400/ 4699 batches | lr 2.70 | ms/batch 26.05 | loss  4.90 | ppl   134.23\n",
      "| epoch  12 |  1600/ 4699 batches | lr 2.70 | ms/batch 26.07 | loss  4.90 | ppl   134.92\n",
      "| epoch  12 |  1800/ 4699 batches | lr 2.70 | ms/batch 26.08 | loss  4.90 | ppl   133.91\n",
      "| epoch  12 |  2000/ 4699 batches | lr 2.70 | ms/batch 26.06 | loss  4.90 | ppl   134.09\n",
      "| epoch  12 |  2200/ 4699 batches | lr 2.70 | ms/batch 26.20 | loss  4.92 | ppl   136.94\n",
      "| epoch  12 |  2400/ 4699 batches | lr 2.70 | ms/batch 26.86 | loss  4.93 | ppl   138.40\n",
      "| epoch  12 |  2600/ 4699 batches | lr 2.70 | ms/batch 26.14 | loss  4.90 | ppl   133.87\n",
      "| epoch  12 |  2800/ 4699 batches | lr 2.70 | ms/batch 26.33 | loss  4.91 | ppl   135.87\n",
      "| epoch  12 |  3000/ 4699 batches | lr 2.70 | ms/batch 26.11 | loss  4.90 | ppl   134.85\n",
      "| epoch  12 |  3200/ 4699 batches | lr 2.70 | ms/batch 26.67 | loss  4.88 | ppl   131.77\n",
      "| epoch  12 |  3400/ 4699 batches | lr 2.70 | ms/batch 26.22 | loss  4.91 | ppl   135.12\n",
      "| epoch  12 |  3600/ 4699 batches | lr 2.70 | ms/batch 26.04 | loss  4.92 | ppl   136.41\n",
      "| epoch  12 |  3800/ 4699 batches | lr 2.70 | ms/batch 26.07 | loss  4.87 | ppl   130.56\n",
      "| epoch  12 |  4000/ 4699 batches | lr 2.70 | ms/batch 26.17 | loss  4.90 | ppl   134.76\n",
      "| epoch  12 |  4200/ 4699 batches | lr 2.70 | ms/batch 27.39 | loss  4.91 | ppl   135.30\n",
      "| epoch  12 |  4400/ 4699 batches | lr 2.70 | ms/batch 27.35 | loss  4.87 | ppl   129.79\n",
      "| epoch  12 |  4600/ 4699 batches | lr 2.70 | ms/batch 27.42 | loss  4.88 | ppl   131.49\n",
      "-----------------------------------------------------------------------------------------\n",
      "| end of epoch  12 | time: 232.46s | valid loss 17.99 | valid ppl 65211609.34\n",
      "-----------------------------------------------------------------------------------------\n",
      "| epoch  13 |   200/ 4699 batches | lr 2.57 | ms/batch 26.37 | loss  4.93 | ppl   138.84\n",
      "| epoch  13 |   400/ 4699 batches | lr 2.57 | ms/batch 26.20 | loss  4.90 | ppl   133.71\n"
     ]
    },
    {
     "ename": "KeyboardInterrupt",
     "evalue": "",
     "output_type": "error",
     "traceback": [
      "\u001b[0;31m---------------------------------------------------------------------------\u001b[0m",
      "\u001b[0;31mKeyboardInterrupt\u001b[0m                         Traceback (most recent call last)",
      "\u001b[0;32m<ipython-input-24-80f7c19c9743>\u001b[0m in \u001b[0;36m<module>\u001b[0;34m\u001b[0m\n\u001b[1;32m      6\u001b[0m \u001b[0;32mfor\u001b[0m \u001b[0mepoch\u001b[0m \u001b[0;32min\u001b[0m \u001b[0mrange\u001b[0m\u001b[0;34m(\u001b[0m\u001b[0;36m1\u001b[0m\u001b[0;34m,\u001b[0m \u001b[0mepochs\u001b[0m \u001b[0;34m+\u001b[0m \u001b[0;36m1\u001b[0m\u001b[0;34m)\u001b[0m\u001b[0;34m:\u001b[0m\u001b[0;34m\u001b[0m\u001b[0;34m\u001b[0m\u001b[0m\n\u001b[1;32m      7\u001b[0m     \u001b[0mepoch_start_time\u001b[0m \u001b[0;34m=\u001b[0m \u001b[0mtime\u001b[0m\u001b[0;34m.\u001b[0m\u001b[0mtime\u001b[0m\u001b[0;34m(\u001b[0m\u001b[0;34m)\u001b[0m\u001b[0;34m\u001b[0m\u001b[0;34m\u001b[0m\u001b[0m\n\u001b[0;32m----> 8\u001b[0;31m     \u001b[0mtrain\u001b[0m\u001b[0;34m(\u001b[0m\u001b[0mtrain_processed\u001b[0m\u001b[0;34m.\u001b[0m\u001b[0mcuda\u001b[0m\u001b[0;34m(\u001b[0m\u001b[0;34m)\u001b[0m\u001b[0;34m,\u001b[0m \u001b[0mmodel\u001b[0m\u001b[0;34m.\u001b[0m\u001b[0mcuda\u001b[0m\u001b[0;34m(\u001b[0m\u001b[0;34m)\u001b[0m\u001b[0;34m,\u001b[0m \u001b[0mcriterion\u001b[0m\u001b[0;34m,\u001b[0m \u001b[0moptimizer\u001b[0m\u001b[0;34m,\u001b[0m \u001b[0mbptt\u001b[0m\u001b[0;34m,\u001b[0m \u001b[0mdevice\u001b[0m\u001b[0;34m)\u001b[0m\u001b[0;34m\u001b[0m\u001b[0;34m\u001b[0m\u001b[0m\n\u001b[0m\u001b[1;32m      9\u001b[0m     \u001b[0mval_loss\u001b[0m \u001b[0;34m=\u001b[0m \u001b[0mevaluate\u001b[0m\u001b[0;34m(\u001b[0m\u001b[0mmodel\u001b[0m\u001b[0;34m,\u001b[0m \u001b[0mtest_processed\u001b[0m\u001b[0;34m,\u001b[0m \u001b[0mbptt\u001b[0m\u001b[0;34m,\u001b[0m \u001b[0meval_batch_size\u001b[0m\u001b[0;34m)\u001b[0m\u001b[0;34m\u001b[0m\u001b[0;34m\u001b[0m\u001b[0m\n\u001b[1;32m     10\u001b[0m     \u001b[0mprint\u001b[0m\u001b[0;34m(\u001b[0m\u001b[0;34m'-'\u001b[0m \u001b[0;34m*\u001b[0m \u001b[0;36m89\u001b[0m\u001b[0;34m)\u001b[0m\u001b[0;34m\u001b[0m\u001b[0;34m\u001b[0m\u001b[0m\n",
      "\u001b[0;32m<ipython-input-22-075b03b0a31e>\u001b[0m in \u001b[0;36mtrain\u001b[0;34m(train_data, model, criterion, optimizer, bptt, device)\u001b[0m\n\u001b[1;32m     17\u001b[0m         \u001b[0moutput\u001b[0m \u001b[0;34m=\u001b[0m \u001b[0mmodel\u001b[0m\u001b[0;34m(\u001b[0m\u001b[0mdata\u001b[0m\u001b[0;34m,\u001b[0m \u001b[0msrc_mask\u001b[0m\u001b[0;34m)\u001b[0m\u001b[0;34m\u001b[0m\u001b[0;34m\u001b[0m\u001b[0m\n\u001b[1;32m     18\u001b[0m         \u001b[0mloss\u001b[0m \u001b[0;34m=\u001b[0m \u001b[0mcriterion\u001b[0m\u001b[0;34m(\u001b[0m\u001b[0moutput\u001b[0m\u001b[0;34m.\u001b[0m\u001b[0mview\u001b[0m\u001b[0;34m(\u001b[0m\u001b[0;34m-\u001b[0m\u001b[0;36m1\u001b[0m\u001b[0;34m,\u001b[0m \u001b[0mntoken\u001b[0m\u001b[0;34m)\u001b[0m\u001b[0;34m,\u001b[0m \u001b[0mtargets\u001b[0m\u001b[0;34m)\u001b[0m\u001b[0;34m\u001b[0m\u001b[0;34m\u001b[0m\u001b[0m\n\u001b[0;32m---> 19\u001b[0;31m         \u001b[0mloss\u001b[0m\u001b[0;34m.\u001b[0m\u001b[0mbackward\u001b[0m\u001b[0;34m(\u001b[0m\u001b[0;34m)\u001b[0m\u001b[0;34m\u001b[0m\u001b[0;34m\u001b[0m\u001b[0m\n\u001b[0m\u001b[1;32m     20\u001b[0m         \u001b[0mtorch\u001b[0m\u001b[0;34m.\u001b[0m\u001b[0mnn\u001b[0m\u001b[0;34m.\u001b[0m\u001b[0mutils\u001b[0m\u001b[0;34m.\u001b[0m\u001b[0mclip_grad_norm_\u001b[0m\u001b[0;34m(\u001b[0m\u001b[0mmodel\u001b[0m\u001b[0;34m.\u001b[0m\u001b[0mparameters\u001b[0m\u001b[0;34m(\u001b[0m\u001b[0;34m)\u001b[0m\u001b[0;34m,\u001b[0m \u001b[0;36m0.5\u001b[0m\u001b[0;34m)\u001b[0m\u001b[0;34m\u001b[0m\u001b[0;34m\u001b[0m\u001b[0m\n\u001b[1;32m     21\u001b[0m         \u001b[0moptimizer\u001b[0m\u001b[0;34m.\u001b[0m\u001b[0mstep\u001b[0m\u001b[0;34m(\u001b[0m\u001b[0;34m)\u001b[0m\u001b[0;34m\u001b[0m\u001b[0;34m\u001b[0m\u001b[0m\n",
      "\u001b[0;32m~/anaconda3/envs/main/lib/python3.8/site-packages/torch/tensor.py\u001b[0m in \u001b[0;36mbackward\u001b[0;34m(self, gradient, retain_graph, create_graph)\u001b[0m\n\u001b[1;32m    219\u001b[0m                 \u001b[0mretain_graph\u001b[0m\u001b[0;34m=\u001b[0m\u001b[0mretain_graph\u001b[0m\u001b[0;34m,\u001b[0m\u001b[0;34m\u001b[0m\u001b[0;34m\u001b[0m\u001b[0m\n\u001b[1;32m    220\u001b[0m                 create_graph=create_graph)\n\u001b[0;32m--> 221\u001b[0;31m         \u001b[0mtorch\u001b[0m\u001b[0;34m.\u001b[0m\u001b[0mautograd\u001b[0m\u001b[0;34m.\u001b[0m\u001b[0mbackward\u001b[0m\u001b[0;34m(\u001b[0m\u001b[0mself\u001b[0m\u001b[0;34m,\u001b[0m \u001b[0mgradient\u001b[0m\u001b[0;34m,\u001b[0m \u001b[0mretain_graph\u001b[0m\u001b[0;34m,\u001b[0m \u001b[0mcreate_graph\u001b[0m\u001b[0;34m)\u001b[0m\u001b[0;34m\u001b[0m\u001b[0;34m\u001b[0m\u001b[0m\n\u001b[0m\u001b[1;32m    222\u001b[0m \u001b[0;34m\u001b[0m\u001b[0m\n\u001b[1;32m    223\u001b[0m     \u001b[0;32mdef\u001b[0m \u001b[0mregister_hook\u001b[0m\u001b[0;34m(\u001b[0m\u001b[0mself\u001b[0m\u001b[0;34m,\u001b[0m \u001b[0mhook\u001b[0m\u001b[0;34m)\u001b[0m\u001b[0;34m:\u001b[0m\u001b[0;34m\u001b[0m\u001b[0;34m\u001b[0m\u001b[0m\n",
      "\u001b[0;32m~/anaconda3/envs/main/lib/python3.8/site-packages/torch/autograd/__init__.py\u001b[0m in \u001b[0;36mbackward\u001b[0;34m(tensors, grad_tensors, retain_graph, create_graph, grad_variables)\u001b[0m\n\u001b[1;32m    128\u001b[0m         \u001b[0mretain_graph\u001b[0m \u001b[0;34m=\u001b[0m \u001b[0mcreate_graph\u001b[0m\u001b[0;34m\u001b[0m\u001b[0;34m\u001b[0m\u001b[0m\n\u001b[1;32m    129\u001b[0m \u001b[0;34m\u001b[0m\u001b[0m\n\u001b[0;32m--> 130\u001b[0;31m     Variable._execution_engine.run_backward(\n\u001b[0m\u001b[1;32m    131\u001b[0m         \u001b[0mtensors\u001b[0m\u001b[0;34m,\u001b[0m \u001b[0mgrad_tensors_\u001b[0m\u001b[0;34m,\u001b[0m \u001b[0mretain_graph\u001b[0m\u001b[0;34m,\u001b[0m \u001b[0mcreate_graph\u001b[0m\u001b[0;34m,\u001b[0m\u001b[0;34m\u001b[0m\u001b[0;34m\u001b[0m\u001b[0m\n\u001b[1;32m    132\u001b[0m         allow_unreachable=True)  # allow_unreachable flag\n",
      "\u001b[0;31mKeyboardInterrupt\u001b[0m: "
     ]
    }
   ],
   "source": [
    "bptt = 15 #96\n",
    "best_val_loss = float(\"inf\")\n",
    "epochs = 20 # The number of epochs\n",
    "best_model = None\n",
    "\n",
    "for epoch in range(1, epochs + 1):\n",
    "    epoch_start_time = time.time()\n",
    "    train(train_processed.cuda(), model.cuda(), criterion, optimizer, bptt, device)\n",
    "    val_loss = evaluate(model, test_processed, bptt, eval_batch_size)\n",
    "    print('-' * 89)\n",
    "    print('| end of epoch {:3d} | time: {:5.2f}s | valid loss {:5.2f} | '\n",
    "          'valid ppl {:8.2f}'.format(epoch, (time.time() - epoch_start_time),\n",
    "                                     val_loss, math.exp(val_loss)))\n",
    "    print('-' * 89)\n",
    "\n",
    "    if val_loss < best_val_loss:\n",
    "        best_val_loss = val_loss\n",
    "        best_model = model\n",
    "\n",
    "    scheduler.step()"
   ]
  },
  {
   "cell_type": "markdown",
   "metadata": {},
   "source": [
    "# Inferencing"
   ]
  },
  {
   "cell_type": "code",
   "execution_count": 25,
   "metadata": {},
   "outputs": [],
   "source": [
    "def process_sample(text):\n",
    "    tokens = tokenizer(text)\n",
    "    token_num = torch.tensor([vocab[tok] for tok in tokens]).cuda()\n",
    "    \n",
    "    src_mask = model.generate_square_subsequent_mask(len(tokens)).to(device)\n",
    "    with torch.no_grad():\n",
    "        outputs = model(token_num, src_mask)\n",
    "    preds = outputs.view(-1, ntoken).argmax(1).tolist()\n",
    "    \n",
    "    return text + \" \" + \" \".join([vocab.itos[tok_idx] for tok_idx in preds])"
   ]
  },
  {
   "cell_type": "code",
   "execution_count": 26,
   "metadata": {},
   "outputs": [],
   "source": [
    "# sample_text = train_df[0][3]#train_df.text[2][:100]#\"The idea of having Martin Scorsese in this movie\"\n",
    "# [vocab.itos[item] for item in process_sample(sample_text).argmax(dim=1).tolist()]"
   ]
  },
  {
   "cell_type": "code",
   "execution_count": 62,
   "metadata": {},
   "outputs": [
    {
     "data": {
      "text/plain": [
       "'Best dramatic hobo lady I have ever seen, and love scenes in clothes warehouse are second to none. The corn on face is a class'"
      ]
     },
     "execution_count": 62,
     "metadata": {},
     "output_type": "execute_result"
    }
   ],
   "source": [
    "train_df.text[2][44:170]"
   ]
  },
  {
   "cell_type": "code",
   "execution_count": 33,
   "metadata": {},
   "outputs": [],
   "source": [
    "sample_text = \"The idea of watching\""
   ]
  },
  {
   "cell_type": "code",
   "execution_count": 63,
   "metadata": {},
   "outputs": [
    {
     "data": {
      "text/plain": [
       "\"Best dramatic hobo lady I have ever seen, and love scenes in clothes warehouse are second to none. The corn on face is a class of . and . was been seen this and the . . the and is very half the of . film . the . a movie . . . , . was been . this the the with . the and is not . be of . film syrup the . a movie . . , ' . was been . this the the . . the down . a season be of . film . the . a movie . film . and . was been . in and the with . the and is the half be of . film syrup the . a movie . . . and ' was been . in the the . . the . is a season be of . movie syrup the . a movie . . . and who ' been . in and the . . the . . very half be of . movie . the . a movie . . moments ' ' was been . . and the . . the and . very half be of . film syrup the . a movie . films . and . was been . the and the with . the . is very half be of . film syrup the and a movie . film . and . ' been . . the the . . the and is very film be of . film syrup the . a movie . films . and who ' been . in the the . . the and . not season be of . movie syrup the . a movie . . moments and who ' been . . and the . . the . . very half be of . film syrup the . a movie . ever . , . ' been . in the the . . the . . very time be of . film , the . a movie . ever . and . was been . . and the . . the and . a episode be of . film syrup the . a movie . . and and ' was been . in and the . . the . . very half the of . film syrup the . a movie . films and . . ' been . the the the . of the and . very half be of . movie syrup the . a movie . . . . who ' been . in and the . . the . . , half be of i film , screen . a movie . films . , penelope ' been . in and the . are the and . very , the of . film syrup the . a movie . films . , . was been . in the the . . the and . very film be of the movie . the . a movie . . . ' in ' been . . the the . . the and . very half be of . film . the . a movie . ever moments , . ' been . in and the . of the and . not half be of . film , the . a movie . . . , . was been . the the the with . the and . the . be of . film syrup the . a movie . film . , ' was been . the the the . in the and . , season the of . movie syrup the . a movie . . moments . . was been . in the the . . the . . not half be of . of syrup the . a movie . . . , ' ' been . in the the . . the . . in half be of the film syrup the . a movie . . moments ' . was seen . in the the . . the and . very half be of . of ! the . a movie . . scene ' ' was been . in the the . . the and . not half be of . film . the . a movie . . . , . ' been . the the the . in the and . not half be of . of . the . a movie .\""
      ]
     },
     "execution_count": 63,
     "metadata": {},
     "output_type": "execute_result"
    }
   ],
   "source": [
    "process_sample(train_df.text[2][44:170])"
   ]
  },
  {
   "cell_type": "code",
   "execution_count": null,
   "metadata": {},
   "outputs": [],
   "source": []
  }
 ],
 "metadata": {
  "kernelspec": {
   "display_name": "Python 3",
   "language": "python",
   "name": "python3"
  },
  "language_info": {
   "codemirror_mode": {
    "name": "ipython",
    "version": 3
   },
   "file_extension": ".py",
   "mimetype": "text/x-python",
   "name": "python",
   "nbconvert_exporter": "python",
   "pygments_lexer": "ipython3",
   "version": "3.9.1"
  }
 },
 "nbformat": 4,
 "nbformat_minor": 4
}
